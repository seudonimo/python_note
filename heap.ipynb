import heapq

heap_list = [50, 10, 20, 60, 80, 70, 30, 90, 40]
print(heap_list)

# Change to heap
heapq.heapify(heap_list)
print(heap2)

# Push to heap list
heap = list()
heapq.heappush(heap, 50)
heapq.heappush(heap, 10)
heapq.heappush(heap, 20)

print(heap)
print(heap[0])
print(heap[1])
print(heap[2])
print(heapq.heappop(heap))
print(heap)
dir(heapq)
